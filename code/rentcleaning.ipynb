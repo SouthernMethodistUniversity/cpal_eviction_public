{
 "cells": [
  {
   "cell_type": "code",
   "execution_count": null,
   "id": "7b09e355-ee26-4eea-8e03-0218a0b1bf6f",
   "metadata": {},
   "outputs": [],
   "source": [
    "import pandas as pd"
   ]
  },
  {
   "cell_type": "code",
   "execution_count": null,
   "id": "16430c7d-768d-4053-a885-690322f17b3d",
   "metadata": {
    "scrolled": true
   },
   "outputs": [],
   "source": [
    "data=pd.read_csv('~/cpal_eviction_public/data/rent.csv')"
   ]
  },
  {
   "cell_type": "code",
   "execution_count": null,
   "id": "ef223c68-5439-454a-9f1e-c3f9c9208146",
   "metadata": {},
   "outputs": [],
   "source": [
    "data"
   ]
  },
  {
   "cell_type": "code",
   "execution_count": null,
   "id": "551abedd-f6ac-48f1-a7b2-73a17f2fd34b",
   "metadata": {
    "scrolled": true
   },
   "outputs": [],
   "source": [
    "data = data[['Geography', 'Geographic Area Name', 'Estimate!!GROSS RENT!!Occupied units paying rent!!Median (dollars)']]\n"
   ]
  },
  {
   "cell_type": "code",
   "execution_count": null,
   "id": "0cc6f2e9-642c-4f17-931f-d91e5a96f06d",
   "metadata": {},
   "outputs": [],
   "source": [
    "data['Geography']=data['Geography'].apply(lambda x: x.split('US')[1])\n",
    "#data['Geography']=data['Geography'].str.split('US')[1]"
   ]
  },
  {
   "cell_type": "code",
   "execution_count": null,
   "id": "39a7eeb0-88ec-4741-81d3-084ae962cb3d",
   "metadata": {},
   "outputs": [],
   "source": [
    "data.head"
   ]
  },
  {
   "cell_type": "code",
   "execution_count": null,
   "id": "7f6f6e76-37f2-428b-83f8-490631c280f6",
   "metadata": {},
   "outputs": [],
   "source": [
    "data.to_csv('~/cpal_eviction_public/data/rentdata_clean.csv',index=False)"
   ]
  },
  {
   "cell_type": "code",
   "execution_count": null,
   "id": "00c4ccae-b65e-47fa-8c1a-7371f59f1c73",
   "metadata": {},
   "outputs": [],
   "source": []
  }
 ],
 "metadata": {
  "kernelspec": {
   "display_name": "Python 3 (ipykernel)",
   "language": "python",
   "name": "python3"
  },
  "language_info": {
   "codemirror_mode": {
    "name": "ipython",
    "version": 3
   },
   "file_extension": ".py",
   "mimetype": "text/x-python",
   "name": "python",
   "nbconvert_exporter": "python",
   "pygments_lexer": "ipython3",
   "version": "3.11.5"
  }
 },
 "nbformat": 4,
 "nbformat_minor": 5
}
