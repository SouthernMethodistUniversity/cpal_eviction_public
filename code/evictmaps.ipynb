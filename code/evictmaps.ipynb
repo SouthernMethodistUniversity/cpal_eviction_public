{
 "cells": [
  {
   "cell_type": "code",
   "execution_count": null,
   "id": "0ea27e39-5b57-4ca7-b474-d69b363be76a",
   "metadata": {},
   "outputs": [],
   "source": [
    "# Import Libraries\n",
    "import warnings\n",
    "warnings.simplefilter(action='ignore', category=FutureWarning)\n",
    "import pandas as pd\n",
    "import geopandas\n",
    "import numpy as np\n",
    "import matplotlib.pyplot as plt\n",
    "#from scipy.stats import spearmanr\n",
    "#from re import sub\n",
    "#from decimal import Decimal\n",
    "#from shapely.geometry import Point, Polygon\n",
    "import contextily as cx\n",
    "%config InlineBackend.figure_format ='retina'"
   ]
  },
  {
   "cell_type": "code",
   "execution_count": null,
   "id": "66b11fc9-8c89-4108-ab09-836cf8030a7a",
   "metadata": {},
   "outputs": [],
   "source": [
    "# Import processed judgements_GEOIDS data -- no businesses\n",
    "jud_geo = pd.read_csv(\"~/cpal_eviction_public/data/nonzero_jud_geo_no_bus.csv\")\n",
    "jud_geo.head(3)"
   ]
  },
  {
   "cell_type": "code",
   "execution_count": null,
   "id": "ce5cbcd0-8785-48f7-8202-93770796ddda",
   "metadata": {},
   "outputs": [],
   "source": [
    "# Import cleaned census data -- originally: Selected Housing Characteristics, ACS 1-year -- cleaned by Christine\n",
    "median_rent = pd.read_csv(\"~/cpal_eviction_public/data/rentdata_clean.csv\")\n",
    "##median_rent = median_rent.drop(columns=['0500000US48113'])\n",
    "median_rent.columns = ['GEOID', 'NAME', 'Estimate_Rent']\n",
    "median_rent = median_rent[median_rent['GEOID']!='Geography']\n",
    "#median_rent['GEOID'] = median_rent['GEOID'].str.replace('1400000US','')\n",
    "median_rent['GEOID'] = median_rent['GEOID'].astype(float)\n",
    "median_rent = median_rent[median_rent['Estimate_Rent']!='-']\n",
    "median_rent['Estimate_Rent'] = median_rent['Estimate_Rent'].astype(float)\n",
    "median_rent.head(3)"
   ]
  },
  {
   "cell_type": "code",
   "execution_count": null,
   "id": "2203a8ca-946f-4d06-900e-6be9c7d9badc",
   "metadata": {},
   "outputs": [],
   "source": [
    "# Import census tract shapefile\n",
    "tx_tract = geopandas.read_file(\"https://www2.census.gov/geo/tiger/TIGER2020/TRACT/tl_2020_48_tract.zip\")\n",
    "tx_tract = tx_tract[tx_tract['COUNTYFP'].astype(float)==113]\n",
    "tx_tract = tx_tract.to_crs(epsg = 4326)"
   ]
  },
  {
   "cell_type": "code",
   "execution_count": null,
   "id": "fbd359f4-d725-4789-bc0c-8ce1151d2acd",
   "metadata": {},
   "outputs": [],
   "source": [
    "income = pd.read_csv(\"~/cpal_eviction_public/data/incomedata_clean.csv\")\n"
   ]
  },
  {
   "cell_type": "code",
   "execution_count": null,
   "id": "286e0c1e-7880-485d-8719-3645cf626ad2",
   "metadata": {},
   "outputs": [],
   "source": [
    "# Count the number of evictions by census tract\n",
    "jud_geo_by_tract = pd.DataFrame(np.unique(jud_geo['GEOID_2020'], return_counts=True)).transpose()\n",
    "jud_geo_by_tract.columns = ['GEOID_2020', 'Num_Evict']\n",
    "\n",
    "# Find the total and average judgment award by census tract\n",
    "jud_geo_amt_median = jud_geo[['GEOID_2020','judgment_amt']].groupby(by='GEOID_2020').median()['judgment_amt']\n",
    "jud_geo_by_tract = pd.merge(jud_geo_by_tract, jud_geo_amt_median, left_on='GEOID_2020', right_on='GEOID_2020', how='outer')\n",
    "jud_geo_by_tract.columns = ['GEOID_2020', 'Num_Evict', 'Median_Judgment_Amt']\n",
    "jud_geo_by_tract"
   ]
  },
  {
   "cell_type": "code",
   "execution_count": null,
   "id": "954f0dd1-ffb3-45ae-bc9f-ecfeed27cf7f",
   "metadata": {},
   "outputs": [],
   "source": [
    "# Convert GEOIDs to float\n",
    "jud_geo_by_tract['GEOID_2020'] = jud_geo_by_tract['GEOID_2020'].astype(float)\n",
    "tx_tract['GEOID'] = tx_tract['GEOID'].astype(float)\n",
    "\n",
    "# Combine with census tracts\n",
    "tx_tract_jud_geo = pd.merge(tx_tract, jud_geo_by_tract, left_on='GEOID', right_on='GEOID_2020', how='left')\n",
    "tx_tract_jud_geo.head(3)"
   ]
  },
  {
   "cell_type": "code",
   "execution_count": null,
   "id": "8570ce0b-7559-4227-aaa3-1fb9e92c7639",
   "metadata": {},
   "outputs": [],
   "source": [
    "tx_tract_jud_geo_median_rent = pd.merge(tx_tract_jud_geo, median_rent, left_on='GEOID', right_on='GEOID', how='left')\n",
    "tx_tract_jud_geo_median_rent['Median_Months_Judgment'] = tx_tract_jud_geo_median_rent['Median_Judgment_Amt'] / tx_tract_jud_geo_median_rent['Estimate_Rent']\n",
    "tx_tract_jud_geo_median_rent.head(1)"
   ]
  },
  {
   "cell_type": "code",
   "execution_count": null,
   "id": "52582d6e-2f8d-420f-a915-723143b0af0b",
   "metadata": {},
   "outputs": [],
   "source": [
    "income = income[income['Renter Median Outcome'] > 0]\n"
   ]
  },
  {
   "cell_type": "code",
   "execution_count": null,
   "id": "564f7a4c-b4e2-4e98-a7b4-4fb8852861a2",
   "metadata": {},
   "outputs": [],
   "source": [
    "tx_tract_jud_geo_median_rent_income = pd.merge(tx_tract_jud_geo_median_rent, income, \n",
    "                                               left_on='NAME_y', right_on='Tract', how='left')"
   ]
  },
  {
   "cell_type": "code",
   "execution_count": null,
   "id": "d780e944-6742-4ecf-9ed6-5c7728cbd5cc",
   "metadata": {},
   "outputs": [],
   "source": [
    "tx_tract_jud_geo_median_rent_income['pct_med_rent_income'] = tx_tract_jud_geo_median_rent_income['Estimate_Rent']*12*100/tx_tract_jud_geo_median_rent_income['Renter Median Outcome']\n"
   ]
  },
  {
   "cell_type": "code",
   "execution_count": null,
   "id": "c5e5672f-319d-4a5a-89ac-097a3bfb04fb",
   "metadata": {},
   "outputs": [],
   "source": [
    "gdf_wm = tx_tract_jud_geo_median_rent_income.to_crs(epsg=3857)\n"
   ]
  },
  {
   "cell_type": "code",
   "execution_count": null,
   "id": "5db16a89-26e7-4cc8-b63a-ff8565d54f87",
   "metadata": {},
   "outputs": [],
   "source": [
    "gdf_wm.to_csv('/users/akage/cpal_eviction_public/data/tx_tract_jud_geo_median_rent_income.csv')\n"
   ]
  },
  {
   "cell_type": "code",
   "execution_count": null,
   "id": "6a7e0fce-3043-4a3a-978c-f3f019a6688c",
   "metadata": {},
   "outputs": [],
   "source": [
    "def create_map(df, col_name, map_title, title_size, x_size, y_size, legend_orientation, save_fig, file_name):\n",
    "    \n",
    "    ax=df.plot(column=col_name, cmap='OrRd', legend=True, alpha=0.6,  figsize=(x_size,y_size), \n",
    "               missing_kwds={\"color\": \"lightgrey\", \"edgecolor\": \"grey\",\"hatch\": \"///\",}, \n",
    "               edgecolor='k', legend_kwds={'orientation': legend_orientation, 'shrink': 0.8,  'pad': 0.01})\n",
    "    cx.add_basemap(ax,source=cx.providers.OpenStreetMap.Mapnik, zoom=14)\n",
    "    cx.add_basemap(ax,source=cx.providers.OpenStreetMap.Mapnik, zoom=12)\n",
    "    leg = ax.get_legend()\n",
    "\n",
    "    ax.set_axis_off();\n",
    "    ax.set_title(map_title, fontsize=title_size);\n",
    "\n",
    "    if save_fig == True:\n",
    "        plt.savefig(file_name, dpi=1200, bbox_inches=\"tight\", pad_inches = 0)"
   ]
  },
  {
   "cell_type": "code",
   "execution_count": null,
   "id": "dec04768-7735-4029-82bb-fd28fe28aec3",
   "metadata": {},
   "outputs": [],
   "source": [
    "# Number of Evictions\n",
    "create_map(gdf_wm, 'Num_Evict', 'Number of Evictions by Census Tract', 24, 15, 15, 'vertical', \n",
    "           True, '../results/num_evict.png')"
   ]
  },
  {
   "cell_type": "code",
   "execution_count": null,
   "id": "7b9b7be9-cfe4-43f5-a9d6-c06d0b8c4825",
   "metadata": {},
   "outputs": [],
   "source": [
    "# Median Judgment Amount\n",
    "create_map(gdf_wm, 'Median_Judgment_Amt', 'Median Judgment Amount ($) by Census Tract', 24, 15, 15, 'vertical', \n",
    "           True, '../results/med_jud_amt.png')"
   ]
  },
  {
   "cell_type": "code",
   "execution_count": null,
   "id": "ef97593d-99e9-4129-ae6f-b531bebefdda",
   "metadata": {},
   "outputs": [],
   "source": [
    "#Rent\n",
    "create_map(gdf_wm, 'Estimate_Rent', 'Median Contract Rent ($) by Census Tract', 24, 15, 15, 'vertical', \n",
    "           True, '../results/med_rent.png')"
   ]
  },
  {
   "cell_type": "code",
   "execution_count": null,
   "id": "3d66cd5e-96a7-4af0-a02d-e45dd47a9068",
   "metadata": {},
   "outputs": [],
   "source": [
    "# Median Renter Income\n",
    "create_map(gdf_wm, 'Renter Median Outcome', 'Median Renter Income ($) by Census Tract', 24, 15, 15, 'vertical', \n",
    "           True, '../results/med_income.png')"
   ]
  },
  {
   "cell_type": "code",
   "execution_count": null,
   "id": "d44562dc-d6cf-4895-96bd-5fe3d3663b99",
   "metadata": {},
   "outputs": [],
   "source": [
    "# Median % Income of Rent\n",
    "create_map(gdf_wm, 'pct_med_rent_income', 'Percent Rent of Income (%) by Census Tract', 24, 15, 15, 'vertical', \n",
    "           True, '../results/med_pct_rent_income.png')"
   ]
  },
  {
   "cell_type": "code",
   "execution_count": null,
   "id": "9b742050-4823-4ae7-b87e-069e965f81f1",
   "metadata": {},
   "outputs": [],
   "source": []
  }
 ],
 "metadata": {
  "kernelspec": {
   "display_name": "Python 3 (ipykernel)",
   "language": "python",
   "name": "python3"
  },
  "language_info": {
   "codemirror_mode": {
    "name": "ipython",
    "version": 3
   },
   "file_extension": ".py",
   "mimetype": "text/x-python",
   "name": "python",
   "nbconvert_exporter": "python",
   "pygments_lexer": "ipython3",
   "version": "3.11.5"
  }
 },
 "nbformat": 4,
 "nbformat_minor": 5
}
